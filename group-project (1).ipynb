{
 "cells": [
  {
   "cell_type": "code",
   "execution_count": 6,
   "id": "eac83799-c730-4d57-9ec7-9e41e405535d",
   "metadata": {},
   "outputs": [
    {
     "name": "stderr",
     "output_type": "stream",
     "text": [
      "Warning message in file(filename, \"r\", encoding = encoding):\n",
      "“cannot open file 'tests.R': No such file or directory”\n"
     ]
    },
    {
     "ename": "ERROR",
     "evalue": "Error in file(filename, \"r\", encoding = encoding): cannot open the connection\n",
     "output_type": "error",
     "traceback": [
      "Error in file(filename, \"r\", encoding = encoding): cannot open the connection\nTraceback:\n",
      "1. source(\"tests.R\")",
      "2. file(filename, \"r\", encoding = encoding)"
     ]
    }
   ],
   "source": [
    "### Run this cell before continuing.\n",
    "library(tidyverse)\n",
    "library(repr)\n",
    "library(tidymodels)\n",
    "options(repr.matrix.max.rows = 6)\n",
    "source('tests.R')\n",
    "source('cleanup.R')"
   ]
  },
  {
   "cell_type": "markdown",
   "id": "bcb0ec9e-cc86-4705-a528-0d686325ff35",
   "metadata": {},
   "source": [
    "<h3>Introduction:</h3>\n",
    "\n",
    "<b>Provide some relevant background information on the topic so that someone unfamiliar with it will be prepared to understand the rest of your proposal.</b>\n",
    "<br>\n",
    "According to the information provided in the README file, Pulsars are a rare type of neutron stars that are useful as probes of space-time, interstellar medium, and states of matter. They are searched for by looking for radio signals using telescopes. It is hard to distinguish between signals caused by either RFI (Radio \n",
    "Frequency Interference) or noise and real pulsars. Thus the above is a classification problem of identifying pulsar and non-pulsar classes based on certain variables.\n",
    "\n",
    "<b>Clearly state the question you will try to answer with your project</b>\n",
    "<br>\n",
    "Perform dataset classification to classify pulsar candidates to pulsar or non-pulsar categories to facilitate the exploration and identification of pulsars through data science techniques.</b>\n",
    "The question : Based on certain characteristic variables, is a given candidate pulsar or non-pulsar?\n",
    "<br>\n",
    "\n",
    "<b>Identify and describe the dataset that will be used to answer the question</b>\n",
    "- We will be using the Dataset available at this link: https://archive.ics.uci.edu/dataset/372/htru2\n",
    "- Here is the citation for the dataset: \n",
    "R. J. Lyon, B. W. Stappers, S. Cooper, J. M. Brooke, J. D. Knowles, Fifty Years of Pulsar. Candidate Selection: From simple filters to a new principled real-time classification approach MNRAS, 2016.\n",
    "\n",
    "- The title is HTRU2 and the dataset contains 17898 observations and the following 8 variables as described in the dataset README file:\n",
    "    - Mean of the integrated profile.\n",
    "    - Standard deviation of the integrated profile.\n",
    "    - Excess kurtosis of the integrated profile.\n",
    "    - Skewness of the integrated profile.\n",
    "    - Mean of the DM-SNR curve.\n",
    "    - Standard deviation of the DM-SNR curve.\n",
    "    - Excess kurtosis of the DM-SNR curve.\n",
    "    - Skewness of the DM-SNR curve.\n",
    "- An additional dummy/categorical variable column indicates whether or not the observation has been classified as a pulsar (class == 1) or not (class == 0)\n",
    "- The sample has a balance problem since there are only 1639 real pulsar examples and an overwhelming 16259 non pulsar examples (RFI/noise). This will need to be accounted for in the analysis.\n"
   ]
  },
  {
   "cell_type": "markdown",
   "id": "cb850ccd-63f3-4000-8984-02e5a806e89b",
   "metadata": {},
   "source": [
    "<h3> Preliminary exploratory data analysis:</h3>\n",
    "\n",
    "- Demonstrate that the dataset can be read from the web into R \n",
    "- Clean and wrangle your data into a tidy format\n",
    "- Using only training data, summarize the data in at least one table (this is exploratory data analysis). An example of a useful table could be one that reports the number of observations in each class, the means of the predictor variables you plan to use in your analysis and how many rows have missing data. \n",
    "- Using only training data, visualize the data with at least one plot relevant to the analysis you plan to do (this is exploratory data analysis). An example of a useful visualization could be one that compares the distributions of each of the predictor variables you plan to use in your analysis.\n"
   ]
  },
  {
   "cell_type": "code",
   "execution_count": 23,
   "id": "5b83662b-ce55-4956-8b96-1cdd00867abf",
   "metadata": {},
   "outputs": [
    {
     "name": "stderr",
     "output_type": "stream",
     "text": [
      "\u001b[1mRows: \u001b[22m\u001b[34m17898\u001b[39m \u001b[1mColumns: \u001b[22m\u001b[34m9\u001b[39m\n",
      "\u001b[36m──\u001b[39m \u001b[1mColumn specification\u001b[22m \u001b[36m────────────────────────────────────────────────────────\u001b[39m\n",
      "\u001b[1mDelimiter:\u001b[22m \",\"\n",
      "\u001b[32mdbl\u001b[39m (9): mean_ip, standard_deviation_ip, excess_kurtosis_ip, skewness_ip, me...\n",
      "\n",
      "\u001b[36mℹ\u001b[39m Use `spec()` to retrieve the full column specification for this data.\n",
      "\u001b[36mℹ\u001b[39m Specify the column types or set `show_col_types = FALSE` to quiet this message.\n"
     ]
    },
    {
     "data": {
      "text/html": [
       "<table class=\"dataframe\">\n",
       "<caption>A spec_tbl_df: 17898 × 9</caption>\n",
       "<thead>\n",
       "\t<tr><th scope=col>mean_ip</th><th scope=col>standard_deviation_ip</th><th scope=col>excess_kurtosis_ip</th><th scope=col>skewness_ip</th><th scope=col>mean_c</th><th scope=col>standard_deviation_c</th><th scope=col>excess_kurtosis_c</th><th scope=col>skewness_c</th><th scope=col>is_pulsar</th></tr>\n",
       "\t<tr><th scope=col>&lt;dbl&gt;</th><th scope=col>&lt;dbl&gt;</th><th scope=col>&lt;dbl&gt;</th><th scope=col>&lt;dbl&gt;</th><th scope=col>&lt;dbl&gt;</th><th scope=col>&lt;dbl&gt;</th><th scope=col>&lt;dbl&gt;</th><th scope=col>&lt;dbl&gt;</th><th scope=col>&lt;dbl&gt;</th></tr>\n",
       "</thead>\n",
       "<tbody>\n",
       "\t<tr><td>140.5625</td><td>55.68378</td><td>-0.2345714</td><td>-0.6996484</td><td>3.199833</td><td>19.11043</td><td> 7.975532</td><td> 74.24222</td><td>0</td></tr>\n",
       "\t<tr><td>102.5078</td><td>58.88243</td><td> 0.4653182</td><td>-0.5150879</td><td>1.677258</td><td>14.86015</td><td>10.576487</td><td>127.39358</td><td>0</td></tr>\n",
       "\t<tr><td>103.0156</td><td>39.34165</td><td> 0.3233284</td><td> 1.0511644</td><td>3.121237</td><td>21.74467</td><td> 7.735822</td><td> 63.17191</td><td>0</td></tr>\n",
       "\t<tr><td>⋮</td><td>⋮</td><td>⋮</td><td>⋮</td><td>⋮</td><td>⋮</td><td>⋮</td><td>⋮</td><td>⋮</td></tr>\n",
       "\t<tr><td>119.3359</td><td>59.93594</td><td>0.1593631</td><td>-0.74302540</td><td> 21.430602</td><td>58.87200</td><td> 2.499517</td><td>  4.595173</td><td>0</td></tr>\n",
       "\t<tr><td>114.5078</td><td>53.90240</td><td>0.2011614</td><td>-0.02478884</td><td>  1.946488</td><td>13.38173</td><td>10.007967</td><td>134.238910</td><td>0</td></tr>\n",
       "\t<tr><td> 57.0625</td><td>85.79734</td><td>1.4063910</td><td> 0.08951971</td><td>188.306020</td><td>64.71256</td><td>-1.597527</td><td>  1.429475</td><td>0</td></tr>\n",
       "</tbody>\n",
       "</table>\n"
      ],
      "text/latex": [
       "A spec\\_tbl\\_df: 17898 × 9\n",
       "\\begin{tabular}{lllllllll}\n",
       " mean\\_ip & standard\\_deviation\\_ip & excess\\_kurtosis\\_ip & skewness\\_ip & mean\\_c & standard\\_deviation\\_c & excess\\_kurtosis\\_c & skewness\\_c & is\\_pulsar\\\\\n",
       " <dbl> & <dbl> & <dbl> & <dbl> & <dbl> & <dbl> & <dbl> & <dbl> & <dbl>\\\\\n",
       "\\hline\n",
       "\t 140.5625 & 55.68378 & -0.2345714 & -0.6996484 & 3.199833 & 19.11043 &  7.975532 &  74.24222 & 0\\\\\n",
       "\t 102.5078 & 58.88243 &  0.4653182 & -0.5150879 & 1.677258 & 14.86015 & 10.576487 & 127.39358 & 0\\\\\n",
       "\t 103.0156 & 39.34165 &  0.3233284 &  1.0511644 & 3.121237 & 21.74467 &  7.735822 &  63.17191 & 0\\\\\n",
       "\t ⋮ & ⋮ & ⋮ & ⋮ & ⋮ & ⋮ & ⋮ & ⋮ & ⋮\\\\\n",
       "\t 119.3359 & 59.93594 & 0.1593631 & -0.74302540 &  21.430602 & 58.87200 &  2.499517 &   4.595173 & 0\\\\\n",
       "\t 114.5078 & 53.90240 & 0.2011614 & -0.02478884 &   1.946488 & 13.38173 & 10.007967 & 134.238910 & 0\\\\\n",
       "\t  57.0625 & 85.79734 & 1.4063910 &  0.08951971 & 188.306020 & 64.71256 & -1.597527 &   1.429475 & 0\\\\\n",
       "\\end{tabular}\n"
      ],
      "text/markdown": [
       "\n",
       "A spec_tbl_df: 17898 × 9\n",
       "\n",
       "| mean_ip &lt;dbl&gt; | standard_deviation_ip &lt;dbl&gt; | excess_kurtosis_ip &lt;dbl&gt; | skewness_ip &lt;dbl&gt; | mean_c &lt;dbl&gt; | standard_deviation_c &lt;dbl&gt; | excess_kurtosis_c &lt;dbl&gt; | skewness_c &lt;dbl&gt; | is_pulsar &lt;dbl&gt; |\n",
       "|---|---|---|---|---|---|---|---|---|\n",
       "| 140.5625 | 55.68378 | -0.2345714 | -0.6996484 | 3.199833 | 19.11043 |  7.975532 |  74.24222 | 0 |\n",
       "| 102.5078 | 58.88243 |  0.4653182 | -0.5150879 | 1.677258 | 14.86015 | 10.576487 | 127.39358 | 0 |\n",
       "| 103.0156 | 39.34165 |  0.3233284 |  1.0511644 | 3.121237 | 21.74467 |  7.735822 |  63.17191 | 0 |\n",
       "| ⋮ | ⋮ | ⋮ | ⋮ | ⋮ | ⋮ | ⋮ | ⋮ | ⋮ |\n",
       "| 119.3359 | 59.93594 | 0.1593631 | -0.74302540 |  21.430602 | 58.87200 |  2.499517 |   4.595173 | 0 |\n",
       "| 114.5078 | 53.90240 | 0.2011614 | -0.02478884 |   1.946488 | 13.38173 | 10.007967 | 134.238910 | 0 |\n",
       "|  57.0625 | 85.79734 | 1.4063910 |  0.08951971 | 188.306020 | 64.71256 | -1.597527 |   1.429475 | 0 |\n",
       "\n"
      ],
      "text/plain": [
       "      mean_ip  standard_deviation_ip excess_kurtosis_ip skewness_ip mean_c    \n",
       "1     140.5625 55.68378              -0.2345714         -0.6996484  3.199833  \n",
       "2     102.5078 58.88243               0.4653182         -0.5150879  1.677258  \n",
       "3     103.0156 39.34165               0.3233284          1.0511644  3.121237  \n",
       "⋮     ⋮        ⋮                     ⋮                  ⋮           ⋮         \n",
       "17896 119.3359 59.93594              0.1593631          -0.74302540  21.430602\n",
       "17897 114.5078 53.90240              0.2011614          -0.02478884   1.946488\n",
       "17898  57.0625 85.79734              1.4063910           0.08951971 188.306020\n",
       "      standard_deviation_c excess_kurtosis_c skewness_c is_pulsar\n",
       "1     19.11043              7.975532          74.24222  0        \n",
       "2     14.86015             10.576487         127.39358  0        \n",
       "3     21.74467              7.735822          63.17191  0        \n",
       "⋮     ⋮                    ⋮                 ⋮          ⋮        \n",
       "17896 58.87200              2.499517           4.595173 0        \n",
       "17897 13.38173             10.007967         134.238910 0        \n",
       "17898 64.71256             -1.597527           1.429475 0        "
      ]
     },
     "metadata": {},
     "output_type": "display_data"
    }
   ],
   "source": [
    "# Reading data\n",
    "pulsar_data <- read_csv(\"data/HTRU_2.csv\", \n",
    "                        col_names = c(\"mean_ip\", \"standard_deviation_ip\", \n",
    "                                      \"excess_kurtosis_ip\", \"skewness_ip\",\n",
    "                                      \"mean_c\", \"standard_deviation_c\", \n",
    "                                      \"excess_kurtosis_c\", \"skewness_c\",\n",
    "                                      \"is_pulsar\"\n",
    "                                     ))\n",
    "pulsar_data"
   ]
  },
  {
   "cell_type": "code",
   "execution_count": 24,
   "id": "0f06b7ca-7667-4880-b5d8-810766158183",
   "metadata": {},
   "outputs": [
    {
     "data": {
      "text/html": [
       "<table class=\"dataframe\">\n",
       "<caption>A tibble: 35796 × 9</caption>\n",
       "<thead>\n",
       "\t<tr><th scope=col>standard_deviation_ip</th><th scope=col>excess_kurtosis_ip</th><th scope=col>skewness_ip</th><th scope=col>standard_deviation_c</th><th scope=col>excess_kurtosis_c</th><th scope=col>skewness_c</th><th scope=col>is_pulsar</th><th scope=col>type</th><th scope=col>mean</th></tr>\n",
       "\t<tr><th scope=col>&lt;dbl&gt;</th><th scope=col>&lt;dbl&gt;</th><th scope=col>&lt;dbl&gt;</th><th scope=col>&lt;dbl&gt;</th><th scope=col>&lt;dbl&gt;</th><th scope=col>&lt;dbl&gt;</th><th scope=col>&lt;dbl&gt;</th><th scope=col>&lt;chr&gt;</th><th scope=col>&lt;dbl&gt;</th></tr>\n",
       "</thead>\n",
       "<tbody>\n",
       "\t<tr><td>55.68378</td><td>-0.2345714</td><td>-0.6996484</td><td>19.11043</td><td> 7.975532</td><td> 74.24222</td><td>0</td><td>mean_ip</td><td>140.562500</td></tr>\n",
       "\t<tr><td>55.68378</td><td>-0.2345714</td><td>-0.6996484</td><td>19.11043</td><td> 7.975532</td><td> 74.24222</td><td>0</td><td>mean_c </td><td>  3.199833</td></tr>\n",
       "\t<tr><td>58.88243</td><td> 0.4653182</td><td>-0.5150879</td><td>14.86015</td><td>10.576487</td><td>127.39358</td><td>0</td><td>mean_ip</td><td>102.507812</td></tr>\n",
       "\t<tr><td>⋮</td><td>⋮</td><td>⋮</td><td>⋮</td><td>⋮</td><td>⋮</td><td>⋮</td><td>⋮</td><td>⋮</td></tr>\n",
       "\t<tr><td>53.90240</td><td>0.2011614</td><td>-0.02478884</td><td>13.38173</td><td>10.007967</td><td>134.238910</td><td>0</td><td>mean_c </td><td>  1.946488</td></tr>\n",
       "\t<tr><td>85.79734</td><td>1.4063910</td><td> 0.08951971</td><td>64.71256</td><td>-1.597527</td><td>  1.429475</td><td>0</td><td>mean_ip</td><td> 57.062500</td></tr>\n",
       "\t<tr><td>85.79734</td><td>1.4063910</td><td> 0.08951971</td><td>64.71256</td><td>-1.597527</td><td>  1.429475</td><td>0</td><td>mean_c </td><td>188.306020</td></tr>\n",
       "</tbody>\n",
       "</table>\n"
      ],
      "text/latex": [
       "A tibble: 35796 × 9\n",
       "\\begin{tabular}{lllllllll}\n",
       " standard\\_deviation\\_ip & excess\\_kurtosis\\_ip & skewness\\_ip & standard\\_deviation\\_c & excess\\_kurtosis\\_c & skewness\\_c & is\\_pulsar & type & mean\\\\\n",
       " <dbl> & <dbl> & <dbl> & <dbl> & <dbl> & <dbl> & <dbl> & <chr> & <dbl>\\\\\n",
       "\\hline\n",
       "\t 55.68378 & -0.2345714 & -0.6996484 & 19.11043 &  7.975532 &  74.24222 & 0 & mean\\_ip & 140.562500\\\\\n",
       "\t 55.68378 & -0.2345714 & -0.6996484 & 19.11043 &  7.975532 &  74.24222 & 0 & mean\\_c  &   3.199833\\\\\n",
       "\t 58.88243 &  0.4653182 & -0.5150879 & 14.86015 & 10.576487 & 127.39358 & 0 & mean\\_ip & 102.507812\\\\\n",
       "\t ⋮ & ⋮ & ⋮ & ⋮ & ⋮ & ⋮ & ⋮ & ⋮ & ⋮\\\\\n",
       "\t 53.90240 & 0.2011614 & -0.02478884 & 13.38173 & 10.007967 & 134.238910 & 0 & mean\\_c  &   1.946488\\\\\n",
       "\t 85.79734 & 1.4063910 &  0.08951971 & 64.71256 & -1.597527 &   1.429475 & 0 & mean\\_ip &  57.062500\\\\\n",
       "\t 85.79734 & 1.4063910 &  0.08951971 & 64.71256 & -1.597527 &   1.429475 & 0 & mean\\_c  & 188.306020\\\\\n",
       "\\end{tabular}\n"
      ],
      "text/markdown": [
       "\n",
       "A tibble: 35796 × 9\n",
       "\n",
       "| standard_deviation_ip &lt;dbl&gt; | excess_kurtosis_ip &lt;dbl&gt; | skewness_ip &lt;dbl&gt; | standard_deviation_c &lt;dbl&gt; | excess_kurtosis_c &lt;dbl&gt; | skewness_c &lt;dbl&gt; | is_pulsar &lt;dbl&gt; | type &lt;chr&gt; | mean &lt;dbl&gt; |\n",
       "|---|---|---|---|---|---|---|---|---|\n",
       "| 55.68378 | -0.2345714 | -0.6996484 | 19.11043 |  7.975532 |  74.24222 | 0 | mean_ip | 140.562500 |\n",
       "| 55.68378 | -0.2345714 | -0.6996484 | 19.11043 |  7.975532 |  74.24222 | 0 | mean_c  |   3.199833 |\n",
       "| 58.88243 |  0.4653182 | -0.5150879 | 14.86015 | 10.576487 | 127.39358 | 0 | mean_ip | 102.507812 |\n",
       "| ⋮ | ⋮ | ⋮ | ⋮ | ⋮ | ⋮ | ⋮ | ⋮ | ⋮ |\n",
       "| 53.90240 | 0.2011614 | -0.02478884 | 13.38173 | 10.007967 | 134.238910 | 0 | mean_c  |   1.946488 |\n",
       "| 85.79734 | 1.4063910 |  0.08951971 | 64.71256 | -1.597527 |   1.429475 | 0 | mean_ip |  57.062500 |\n",
       "| 85.79734 | 1.4063910 |  0.08951971 | 64.71256 | -1.597527 |   1.429475 | 0 | mean_c  | 188.306020 |\n",
       "\n"
      ],
      "text/plain": [
       "      standard_deviation_ip excess_kurtosis_ip skewness_ip standard_deviation_c\n",
       "1     55.68378              -0.2345714         -0.6996484  19.11043            \n",
       "2     55.68378              -0.2345714         -0.6996484  19.11043            \n",
       "3     58.88243               0.4653182         -0.5150879  14.86015            \n",
       "⋮     ⋮                     ⋮                  ⋮           ⋮                   \n",
       "35794 53.90240              0.2011614          -0.02478884 13.38173            \n",
       "35795 85.79734              1.4063910           0.08951971 64.71256            \n",
       "35796 85.79734              1.4063910           0.08951971 64.71256            \n",
       "      excess_kurtosis_c skewness_c is_pulsar type    mean      \n",
       "1      7.975532          74.24222  0         mean_ip 140.562500\n",
       "2      7.975532          74.24222  0         mean_c    3.199833\n",
       "3     10.576487         127.39358  0         mean_ip 102.507812\n",
       "⋮     ⋮                 ⋮          ⋮         ⋮       ⋮         \n",
       "35794 10.007967         134.238910 0         mean_c    1.946488\n",
       "35795 -1.597527           1.429475 0         mean_ip  57.062500\n",
       "35796 -1.597527           1.429475 0         mean_c  188.306020"
      ]
     },
     "metadata": {},
     "output_type": "display_data"
    }
   ],
   "source": [
    "# Cleaning and wrangling data into a tidy format\n",
    "pulsar_pivot_after_mean <- pulsar_data |>\n",
    "       pivot_longer(cols = starts_with(\"mean\"),\n",
    "                    names_to = \"type\",\n",
    "                    values_to = \"mean\")\n",
    "\n",
    "pulsar_pivot_after_mean\n"
   ]
  },
  {
   "cell_type": "markdown",
   "id": "9bea01fa-f4dc-4ab2-9383-a883d000a1c3",
   "metadata": {},
   "source": [
    "Methods:\n",
    "Explain how you will conduct either your data analysis and which variables/columns you will use. Note - you do not need to use all variables/columns that exist in the raw data set. In fact, that's often not a good idea. For each variable think: is this a useful variable for prediction?\n",
    "Describe at least one way that you will visualize the results\n",
    "Expected outcomes and significance:\n",
    "What do you expect to find?\n",
    "What impact could such findings have?\n",
    "What future questions could this lead to?\n",
    "Explain how you will conduct either your data analysis and which variables/columns you will use. Note - you do not need to use all variables/columns that exist in the raw data set. In fact, that's often not a good idea. For each variable think: is this a useful variable for prediction?\n",
    "Describe at least one way that you will visualize the results\n",
    "A confusion matrix to see the proportions of True Positives, False Positives, True Negatives, and False Negatives.\n",
    "\n",
    "\n",
    "What do you expect to find?\n",
    "Answer: We expect to find how good our K-NN classifier is at predicting whether a star is pulsar or non-pulsar based on our predictor variables.\n",
    "What impact could such findings have?\n",
    "Answer: If in the end we find that our classifier is appropriate for making such pulsar star classification, we can conclude that the variables selected show distinct differences between pulsar and non-pulsar stars.\n",
    "What future questions could this lead to?\n",
    "Answer: A future question might be how good are other types of classifiers at classifying pulsar and non-pulsar stars.\n"
   ]
  },
  {
   "cell_type": "code",
   "execution_count": null,
   "id": "c1feb168-bc71-4475-ae64-1fbba28823a9",
   "metadata": {},
   "outputs": [],
   "source": []
  }
 ],
 "metadata": {
  "kernelspec": {
   "display_name": "R",
   "language": "R",
   "name": "ir"
  },
  "language_info": {
   "codemirror_mode": "r",
   "file_extension": ".r",
   "mimetype": "text/x-r-source",
   "name": "R",
   "pygments_lexer": "r",
   "version": "4.3.1"
  }
 },
 "nbformat": 4,
 "nbformat_minor": 5
}
