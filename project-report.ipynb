{
 "cells": [
  {
   "cell_type": "markdown",
   "id": "bcb0ec9e-cc86-4705-a528-0d686325ff35",
   "metadata": {},
   "source": [
    "<h2>Group 004 25 Project Report</h2>\n",
    "<br>\n",
    "\n",
    "A pulsar is a rapidly rotating neutron star that emits powerful beams of light at its magnetic poles. The beam of emission rotates with the star, and it is only visible when it crosses our line of sight. When the light is pointing towards the Earth, it produces a detectable pattern of broadband radio emission. “As the pulsar rotates, this pattern repeats periodically. Thus pulsar search involves looking for periodic radio signals with large radio telescopes.”(Shaw, 2021). However, in practice, while trying to detect signals from pulsar stars, the radio telescopes will also receive plenty of signals caused by radio frequency interference (RFI) and noise. This makes legitimate signals hard to find. \n",
    "\n",
    "Our goal in this project is to build a K-nearest neighbor classifier that predicts whether a signal is from a pulsar star or caused by RFI and/or noise which are nonpulsar matters. \n",
    "<br>\n",
    "\n",
    "After completing this project, we will be able to answer the following question: Based on the variables that we choose, can we accurately predict whether a candidate is a pulsar or a nonpulsar signal? \n",
    "<br>\n",
    "\n",
    "The dataset that we will be using is named HTRU2 which describes a sample of pulsar candidates (signal detections that come from pulsar stars or RFI/noise) collected during the High Time Resolution Universe Survey. \n",
    "<br>\n",
    "<br>\n",
    "This dataset contains 17898 observations and the following 9 variables:\n",
    "\n",
    "- Mean of the integrated profile.\n",
    "- Standard deviation of the integrated profile.\n",
    "- Excess kurtosis of the integrated profile.\n",
    "- Skewness of the integrated profile.\n",
    "- Mean of the DM-SNR curve.\n",
    "- Standard deviation of the DM-SNR curve.\n",
    "- Excess kurtosis of the DM-SNR curve.\n",
    "- Skewness of the DM-SNR curve.\n",
    "- Class\n",
    "<br>\n",
    "\n",
    "The first eight variables describe characteristics from the signal, and the Class variable is a categorical variable that contains the categories 0 (nonpulsar) and 1 (pulsar). The Class variable will be our target variable."
   ]
  },
  {
   "cell_type": "markdown",
   "id": "07409944-666d-4fe8-ae69-f94b5c3ac9a2",
   "metadata": {},
   "source": [
    "First, we load the libraries."
   ]
  },
  {
   "cell_type": "code",
   "execution_count": null,
   "id": "63079e3f-b48f-4155-baee-cdc8d2e1dbb2",
   "metadata": {},
   "outputs": [],
   "source": [
    "# Run this\n",
    "install.packages(\"kknn\")"
   ]
  },
  {
   "cell_type": "code",
   "execution_count": 2,
   "id": "5b83662b-ce55-4956-8b96-1cdd00867abf",
   "metadata": {},
   "outputs": [
    {
     "name": "stderr",
     "output_type": "stream",
     "text": [
      "Updating HTML index of packages in '.Library'\n",
      "\n",
      "Making 'packages.html' ...\n",
      " done\n",
      "\n"
     ]
    }
   ],
   "source": [
    "# Loading the libraries\n",
    "library(tidyverse)\n",
    "library(repr)\n",
    "library(tidymodels)\n",
    "library(kknn)\n",
    "options(repr.matrix.max.rows = 6)"
   ]
  },
  {
   "cell_type": "markdown",
   "id": "4118264c-27d1-4b25-86b0-d765fea8933e",
   "metadata": {},
   "source": [
    "Now we obtain our dataset from the web using a URL."
   ]
  },
  {
   "cell_type": "code",
   "execution_count": null,
   "id": "7e6fee8a-5e3f-4875-8d6c-a005829d8594",
   "metadata": {
    "tags": []
   },
   "outputs": [],
   "source": [
    "# Reading data from url\n",
    "url <- \"https://raw.githubusercontent.com/aravic03/group-project-proposal/main/HTRU_2.csv\"\n",
    "pulsar_data <- read_csv(url,\n",
    "                       col_names = c(\"mean_ip\", \"standard_deviation_ip\", \n",
    "                                      \"excess_kurtosis_ip\", \"skewness_ip\",\n",
    "                                      \"mean_c\", \"standard_deviation_c\", \n",
    "                                      \"excess_kurtosis_c\", \"skewness_c\",\n",
    "                                      \"is_pulsar\" )) |> # Add column names to the data frame.                       \n",
    "               mutate(is_pulsar = as_factor(is_pulsar)) # Convert our target variable to a factor.\n",
    "pulsar_data"
   ]
  },
  {
   "cell_type": "markdown",
   "id": "e743982b-9165-4993-9219-07fd08cb4756",
   "metadata": {
    "tags": []
   },
   "source": [
    "Since we will be performing classification, we split our data into a training and a testing set."
   ]
  },
  {
   "cell_type": "code",
   "execution_count": null,
   "id": "ba17e2f8-c87d-4154-94fa-d46551896da6",
   "metadata": {
    "tags": []
   },
   "outputs": [],
   "source": [
    "set.seed(1) # set the seed\n",
    "\n",
    "# Splitting the data into training and testing sets (60% and 40%)\n",
    "pulsar_data_split <- initial_split(pulsar_data, prop = 0.6, strata = is_pulsar)\n",
    "pulsar_training <- training(pulsar_data_split)\n",
    "pulsar_testing <- testing(pulsar_data_split)\n",
    "\n",
    "pulsar_training"
   ]
  },
  {
   "cell_type": "markdown",
   "id": "bd3d6378-b2e6-49a5-94b7-2a7ca0969c68",
   "metadata": {
    "tags": []
   },
   "source": [
    "We will begin our preliminary data analysis process by examining the number of observations we have in the training set for each class."
   ]
  },
  {
   "cell_type": "code",
   "execution_count": null,
   "id": "3ef6f449-2a40-47ad-9629-a9e19396b0ff",
   "metadata": {
    "tags": []
   },
   "outputs": [],
   "source": [
    "num_obs_training <- pulsar_training |>\n",
    "      group_by(is_pulsar) |>\n",
    "      summarize(n = n()) |>\n",
    "    mutate(percentage = 100*n/nrow(pulsar_training))\n",
    "num_obs_training"
   ]
  },
  {
   "cell_type": "markdown",
   "id": "a7a051c8-54a5-407e-a2ed-aec367ba6745",
   "metadata": {},
   "source": [
    "Next, we will look at whether our variables contain missing values."
   ]
  },
  {
   "cell_type": "code",
   "execution_count": null,
   "id": "44c3845c-1d00-4acd-95a5-91ef775592c9",
   "metadata": {
    "tags": []
   },
   "outputs": [],
   "source": [
    "na_counts <- pulsar_training |>\n",
    "     summarise_all(~ sum(is.na(.)))\n",
    "na_counts"
   ]
  },
  {
   "cell_type": "markdown",
   "id": "350ca8b7-a212-4bc3-a849-f44a6e156f38",
   "metadata": {},
   "source": [
    "As shown above, there is no missing values in any of the variables."
   ]
  },
  {
   "cell_type": "markdown",
   "id": "b73d83fa-45df-450f-994a-8e1c837460d8",
   "metadata": {},
   "source": [
    "We now begin to choose our predictor variables. First, we plot eight histograms, each showing the distribution of values in each of the variables excluding the `is_pulsar` variable which is our target variable."
   ]
  },
  {
   "cell_type": "code",
   "execution_count": null,
   "id": "fce8a5af-245b-4c14-94b7-ec114f96baae",
   "metadata": {
    "tags": []
   },
   "outputs": [],
   "source": [
    "# Visualiizng the distribution of values in each variables using eight histograms\n",
    "\n",
    "# Histogram 1: Distribution of the Mean of the Integrated Profile\n",
    "mean_ip_plot <- ggplot(pulsar_training, aes(x = mean_ip, fill = is_pulsar)) +\n",
    "  geom_histogram(color = \"blue\") +\n",
    "  labs(title = \"Distribution of Mean of the Integrated Profile\", \n",
    "       x = \"Mean of the Integrated Profile\", \n",
    "       fill = \"Pulsar\")     \n",
    "mean_ip_plot\n",
    "\n",
    "# Histogram 2: Distribution of the Standard Deviation of the Integrated Profile\n",
    "sd_ip_plot <- ggplot(pulsar_training, aes(x = standard_deviation_ip, fill = is_pulsar)) +\n",
    "  geom_histogram(color = \"blue\") +\n",
    "  labs(title = \"Standard Deviation Integrated Profile Distribution\", \n",
    "       x = \"Standard Deviation Integrated Profile Values\", \n",
    "       fill = \"Pulsar\")     \n",
    "sd_ip_plot\n",
    "\n",
    "# Histogram 3: Distribution of the Excess Kurtosis of the Integrated Profile\n",
    "excess_kurtosis_ip_plot <- ggplot(pulsar_training, aes(x = excess_kurtosis_ip, fill = is_pulsar)) +\n",
    "  geom_histogram(color = \"blue\") +\n",
    "  labs(title = \"Excess Kurtosis Integrated Profile Distribution\", x = \"Excess Kurtosis Integrated Profile Values\", fill = \"Pulsar\" )     \n",
    "excess_kurtosis_ip_plot\n",
    "\n",
    "# Histogram 4: Distribution of the Skewness of the Integrated Profile\n",
    "skewness_ip_plot <- ggplot(pulsar_training, aes(x = skewness_ip, fill = is_pulsar)) +\n",
    "  geom_histogram(color = \"blue\") +\n",
    "  labs(title = \"Skewness Integrated Profile Distribution\", x = \"Skewness Integrated Profile Values\", fill = \"Pulsar\" )     \n",
    "skewness_ip_plot\n",
    "\n",
    "# Histogram 5: Distribution of the Mean of DM-SNR Curve\n",
    "mean_c_plot <- ggplot(pulsar_training, aes(x = mean_c, fill = is_pulsar)) +\n",
    "  geom_histogram(color = \"blue\") +\n",
    "  labs(title = \"Mean of the DM-SNR Curve Distribution\", x = \"Mean of DM-SNR Curve Values\", fill = \"Pulsar\" )     \n",
    "mean_c_plot\n",
    "\n",
    "# Histogram 6: Distribution of the Standard Deviation of the DM-SNR Curve\n",
    "sd_c_plot <- ggplot(pulsar_training, aes(x = standard_deviation_c, fill = is_pulsar)) +\n",
    "  geom_histogram(color = \"blue\") +\n",
    "  labs(title = \"Standard Deviation of the DM-SNR Curve Distribution\", x = \"Standard Deviation of DM-SNR Curve Values\", fill = \"Pulsar\" )     \n",
    "sd_c_plot\n",
    "\n",
    "# Histogram 7: Distribution of Excess Kurtosis of DM-SNR Curve\n",
    "excess_kurtosis_c_plot <- ggplot(pulsar_training, aes(x = excess_kurtosis_c, fill = is_pulsar)) +\n",
    "  geom_histogram(color = \"blue\") +\n",
    "  labs(title = \"Excess Kurtosis of the DM-SNR Curve Distribution\", x = \"Excess Kurtosis of DM-SNR Curve Values\", fill = \"Pulsar\" )     \n",
    "excess_kurtosis_c_plot\n",
    "\n",
    "# Histogram 8: Skewness of the DM-SNR Curve\n",
    "skewness_c_plot <- ggplot(pulsar_training, aes(x = skewness_c, fill = is_pulsar)) +\n",
    "  geom_histogram(color = \"blue\") +\n",
    "  labs(title = \"Skewness of the DM-SNR Curve Distribution\", x = \"Skewness of DM-SNR Curve Values\", fill = \"Pulsar\" )     \n",
    "skewness_c_plot"
   ]
  },
  {
   "cell_type": "markdown",
   "id": "12066cdf-71b2-4904-9516-5c3bd0207c3e",
   "metadata": {},
   "source": [
    "Since we have much more nonpulsar observations than pulsar observations, there is a much higher chance that the K-nearest neighbor algorithm will classify a new observation as a nonpulsar detection. Nevertheless, a way to maintain the accuracy of our model is to choose variables where the pulsar observations have distinct values from that of the nonpulsar. Based on the histograms, we observe that for the variables `excess_kurtosis_ip`, `skewness_ip`, and `mean_c`, the values of the two classes are distinct from each other as desired. Therefore, we will choose the three variables indicated as our predictor variables."
   ]
  },
  {
   "cell_type": "markdown",
   "id": "47ade3a5-934c-4cb7-b00d-49e9c8dc2488",
   "metadata": {},
   "source": [
    "Now we can begin building our K-NN classification model. \n",
    "\n",
    "First, we will make a recipe using our training set."
   ]
  },
  {
   "cell_type": "code",
   "execution_count": null,
   "id": "ffde71c2-824a-46da-a56c-36c2d8b14e9a",
   "metadata": {
    "tags": []
   },
   "outputs": [],
   "source": [
    "pulsar_recipe <- recipe(is_pulsar ~ excess_kurtosis_ip + skewness_ip + mean_c, data = pulsar_training) |>\n",
    "    step_scale(all_predictors()) |>\n",
    "    step_center(all_predictors())\n",
    "pulsar_recipe"
   ]
  },
  {
   "cell_type": "markdown",
   "id": "b53b438f-665e-479d-b527-bd30b41bdbb2",
   "metadata": {},
   "source": [
    "Then, we will build a tuning model for picking the best K value."
   ]
  },
  {
   "cell_type": "code",
   "execution_count": null,
   "id": "ef066a73-c2f8-42e5-b132-995814b91b3d",
   "metadata": {
    "tags": []
   },
   "outputs": [],
   "source": [
    "# tuning model\n",
    "tune_spec <- nearest_neighbor(weight_func = \"rectangular\", neighbors = tune()) |>\n",
    "    set_engine(\"kknn\") |>\n",
    "    set_mode(\"classification\")\n",
    "\n",
    "tune_spec"
   ]
  },
  {
   "cell_type": "markdown",
   "id": "cf235776-238f-4f07-a34e-731b547baf47",
   "metadata": {},
   "source": [
    "Next, we perform cross-validation, create a workflow that calculated the metrics for each of the K values 1, 6, ..., 46, and then return a data frame that shows the accuracy of each K value."
   ]
  },
  {
   "cell_type": "code",
   "execution_count": null,
   "id": "78c1fcb6-3448-4c9c-9029-d2d30e1c573f",
   "metadata": {
    "tags": []
   },
   "outputs": [],
   "source": [
    "set.seed(123) # set the seed\n",
    "\n",
    "# cross-validation\n",
    "pulsar_vfold <- vfold_cv(pulsar_training, v = 5, strata = is_pulsar)\n",
    "\n",
    "# create a set of K values\n",
    "kvals <- tibble(neighbors = seq(from = 1, to = 50, by = 5))\n",
    "\n",
    "# data analysis workflow                       \n",
    "    knn_results <- workflow() |>\n",
    "    add_recipe(pulsar_recipe) |>\n",
    "    add_model(tune_spec) |>\n",
    "    tune_grid(resamples = pulsar_vfold, grid = kvals) |>\n",
    "    collect_metrics()\n",
    "\n",
    "accuracies <- knn_results |>\n",
    "    filter(.metric == \"accuracy\")\n",
    "\n",
    "accuracies"
   ]
  },
  {
   "cell_type": "markdown",
   "id": "21779fc1-74a4-4526-9496-8d81bb3026d8",
   "metadata": {},
   "source": [
    "After we have found the accuracy of our model for each K value, we create an accuracy versus K plot."
   ]
  },
  {
   "cell_type": "code",
   "execution_count": null,
   "id": "6a7432a9-5292-4026-9301-9b78728f9c97",
   "metadata": {
    "tags": []
   },
   "outputs": [],
   "source": [
    "best_k_plot <- accuracies |>\n",
    "    ggplot(aes(x = neighbors, y = mean)) +\n",
    "    geom_point() +\n",
    "    geom_line() +\n",
    "    labs(x = \"Number of neighbors\", y = \"Accuracy\") +\n",
    "    ggtitle(\"Accuracy vs. Number of Neighbors\")\n",
    "best_k_plot"
   ]
  },
  {
   "cell_type": "markdown",
   "id": "1b4ed3d2-0cd8-4c88-b7fb-fc736d73ec57",
   "metadata": {},
   "source": [
    "From the graph, we can see that the K value that generates the highest accuracy is 26 (nearly an accuracy of 98%), so we will choose this number as the K for our classification model.\n",
    "\n",
    "We will now build a new K-NN model with K = 26."
   ]
  },
  {
   "cell_type": "code",
   "execution_count": null,
   "id": "482476f7-5be8-4a33-ab03-ebc0ccba0762",
   "metadata": {
    "tags": []
   },
   "outputs": [],
   "source": [
    "knn_spec <- nearest_neighbor(weight_func = \"rectangular\", neighbors = 26) |>\n",
    "    set_engine(\"kknn\") |>\n",
    "    set_mode(\"classification\")\n",
    "knn_spec"
   ]
  },
  {
   "cell_type": "markdown",
   "id": "fa2d17ea-fa8b-4461-ac24-dedefbe6ea92",
   "metadata": {
    "tags": []
   },
   "source": [
    "Then, we will use a workflow to fit our model using our training set, predict the labels in our testing set, and incorporate the predictions into our testing set."
   ]
  },
  {
   "cell_type": "code",
   "execution_count": null,
   "id": "18a86197-9563-4438-b9cb-56c1b90f6b47",
   "metadata": {
    "tags": []
   },
   "outputs": [],
   "source": [
    "knn_fit <- workflow() |>\n",
    "    add_recipe(pulsar_recipe) |>\n",
    "    add_model(knn_spec) |>\n",
    "    fit(data = pulsar_training)\n",
    "\n",
    "pulsar_predict <- predict(knn_fit, pulsar_testing) |>\n",
    "    bind_cols(pulsar_testing)\n",
    "\n",
    "pulsar_predict"
   ]
  },
  {
   "cell_type": "markdown",
   "id": "845543bd-92d6-48cf-88d9-65969378db5c",
   "metadata": {},
   "source": [
    "After having made the predictions, we will assess the accuracy of of our classifier using the `metrics` function."
   ]
  },
  {
   "cell_type": "code",
   "execution_count": null,
   "id": "b3b27070-c8db-49d0-8e8c-8b849b681c02",
   "metadata": {
    "tags": []
   },
   "outputs": [],
   "source": [
    "pulsar_accuracy <- pulsar_predict |>\n",
    "    metrics(truth = is_pulsar, estimate = .pred_class) |>\n",
    "    filter(.metric == \"accuracy\")\n",
    "\n",
    "pulsar_accuracy"
   ]
  },
  {
   "cell_type": "markdown",
   "id": "b03b76c6-76d2-41dd-babc-dd6f30ab86dd",
   "metadata": {},
   "source": [
    "We can also examine the confusion matrix of our classifier's performance."
   ]
  },
  {
   "cell_type": "code",
   "execution_count": null,
   "id": "161f98e3-c6e4-4137-b767-8125cf1e9167",
   "metadata": {
    "tags": []
   },
   "outputs": [],
   "source": [
    "confusion_matrix <- pulsar_predict |>\n",
    "    conf_mat(truth = is_pulsar, estimate = .pred_class)\n",
    "confusion_matrix"
   ]
  },
  {
   "cell_type": "markdown",
   "id": "e74997d6-1d44-49bf-95d5-c3c40b85fee3",
   "metadata": {},
   "source": [
    "Using the confusion matrix above, we found that the precision of our classifier on the testing set is equal to 0.9341 and the recall is equal to 0.830508."
   ]
  },
  {
   "cell_type": "markdown",
   "id": "9bea01fa-f4dc-4ab2-9383-a883d000a1c3",
   "metadata": {},
   "source": [
    "<h3>Methods:</h3>\n",
    "\n",
    "<b>Explain how you will conduct either your data analysis and which variables/columns you will use. Note - you do not need to use all variables/columns that exist in the raw data set. In fact, that's often not a good idea. For each variable think: is this a useful variable for prediction?</b>\n",
    "<br>\n",
    "\n",
    "- The initial four variables are basic statistics derived from the integrated pulse profile, which represents a continuous array of variables describing a version of the signal that has been averaged both in time and frequency, providing a longitude-resolved perspective. The latter four variables are derived from the DM-SNR curve in a similar manner. All the variables have potential relevance to the task of predicting pulsars. It is important to empirically determine their importance through analysis. We can use Correlation Analysis to calculate the correlation between each variable. Variables with higher absolute correlation values are often more relevant. Depending on the distribution of the data, certain variables may have more direct influence on the target variable. Therefore we will choose 8 variables and make 8 histogram, then compare the distribution and use correlation analysis to determine which variable we will use for our predictors.\n",
    "\n",
    "- In our data analysis, we will build our KNN model by tuning the number of neighbors that we have using the `neighbors = tune()` argument in the `nearest_neighbor` function. We will also perform the five-fold cross-validation process using the `vfold_cv` function. Additionally, we will identify the predictor and target variables that we will be using as well as scale and center the values in a recipe. Next we will combine the recipe, the classification model, the `tune_grid` function, as well as the `collect_metrics()` function in a workflow. After that we will filter the data frame to keep only rows containing the accuracy metrics. Finally, we will plot the graph with accuracy estimates versus the number of K and decide which K value is the most appropriate. At this point, the process of creating the classifier is completed.\n",
    "<br>\n",
    "<b>Describe at least one way that you will visualize the results</b>\n",
    "<br>\n",
    "We can create a confusion matrix to visualize the performance of our classifier. Confusion matrix displays the true positive, true negative, false positive, and false negative counts allowing us to assess the classifier’s accuracy, precision and recall.\n",
    "<br>\n",
    "<h3>Expected outcomes and significance:</h3>\n",
    "<b>What do you expect to find?</b>\n",
    "<br>\n",
    "<p>We expect to find how good our K-NN classifier is at predicting whether a star is pulsar or non-pulsar based on our predictor variables.</p>\n",
    "<b>What impact could such findings have?</b>\n",
    "<p>If in the end we find that our classifier is appropriate for making such pulsar star classification, we can conclude that the variables selected show distinct differences between pulsar and non-pulsar stars.\n",
    "Could allow for more efficient classification of stars into either pulsar or non-pulsar categories.\n",
    "It helps in cataloging and characterizing these celestial objects, contributes to our knowledge of astrophysics and the cosmos. Understanding which objects emit regular signals (pulsars) and which do not (non-pulsars) is important for astrobiology and the study of exoplanets. Pulsar signals can be used to probe the atmospheres of exoplanets and assess their potential habitability.</p>\n",
    "<b>What future questions could this lead to?</b>\n",
    "<br>\n",
    "- How good are other types of classifiers at classifying signals from pulsar stars and non-pulsar matters?\n",
    "- How do the radio signal pattern of pulsars evolve over time, and what are the factors influencing their properties?\n",
    "- What is the distribution of pulsars in our galaxy and beyond?\n",
    "- How do pulsars interact with their surroundings?\n",
    "- Are there alternative pathways to pulsar formation, and can they be identified?\n"
   ]
  },
  {
   "cell_type": "code",
   "execution_count": null,
   "id": "7e193ff6-22a9-4070-9263-079e39664ed5",
   "metadata": {},
   "outputs": [],
   "source": []
  }
 ],
 "metadata": {
  "kernelspec": {
   "display_name": "R",
   "language": "R",
   "name": "ir"
  },
  "language_info": {
   "codemirror_mode": "r",
   "file_extension": ".r",
   "mimetype": "text/x-r-source",
   "name": "R",
   "pygments_lexer": "r",
   "version": "4.2.2"
  }
 },
 "nbformat": 4,
 "nbformat_minor": 5
}
