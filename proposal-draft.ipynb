{
 "cells": [
  {
   "cell_type": "markdown",
   "id": "383d3577-f312-4d14-93a9-c9ebf52bfa6a",
   "metadata": {},
   "source": [
    "<h3>Group 004 25 Project Proposal</h3>\n",
    "<br>\n",
    "\n",
    "A pulsar is a rapidly rotating neutron star that emits powerful beams of light at its magnetic poles. The beam of emission rotates with the star, and it is only visible when it crosses our line of sight. When the light is pointing towards the Earth, it produces a detectable pattern of broadband radio emission. “As the pulsar rotates, this pattern repeats periodically. Thus pulsar search involves looking for periodic radio signals with large radio telescopes.”(Shaw, 2021). However, in practice, while trying to detect signals from pulsar stars, the radio telescopes will also receive plenty of signals caused by RFI and/or noise. This makes legitimate signals hard to find. \n",
    "\n",
    "Our goal in this project is to build a K-nearest neighbor classifier that predicts whether a signal is from a pulsar star or caused by RFI and/or noise (nonpulsar). \n",
    "<br>\n",
    "\n",
    "The dataset that we will be using is named HTRU2 which describes a sample of pulsar candidates (potential signal detections) collected during the High Time Resolution Universe Survey (South). \n",
    "<br>\n",
    "<br>\n",
    "This dataset contains 17898 observations and the following 9 variables:\n",
    "\n",
    "- Mean of the integrated profile.\n",
    "- Standard deviation of the integrated profile.\n",
    "- Excess kurtosis of the integrated profile.\n",
    "- Skewness of the integrated profile.\n",
    "- Mean of the DM-SNR curve.\n",
    "- Standard deviation of the DM-SNR curve.\n",
    "- Excess kurtosis of the DM-SNR curve.\n",
    "- Skewness of the DM-SNR curve.\n",
    "- Class\n",
    "<br>\n",
    "\n",
    "The first eight variables describe characteristics from the signal, and the Class variable is a categorical variable that contains the categories 0 (nonpulsar) and 1 (pulsar). The Class variable will be our target variable."
   ]
  },
  {
   "cell_type": "code",
   "execution_count": 1,
   "id": "9f7b29af-988f-42ff-926a-da8d11ea99c7",
   "metadata": {},
   "outputs": [
    {
     "name": "stderr",
     "output_type": "stream",
     "text": [
      "── \u001b[1mAttaching packages\u001b[22m ─────────────────────────────────────── tidyverse 1.3.2 ──\n",
      "\u001b[32m✔\u001b[39m \u001b[34mggplot2\u001b[39m 3.4.2     \u001b[32m✔\u001b[39m \u001b[34mpurrr  \u001b[39m 1.0.1\n",
      "\u001b[32m✔\u001b[39m \u001b[34mtibble \u001b[39m 3.2.1     \u001b[32m✔\u001b[39m \u001b[34mdplyr  \u001b[39m 1.1.1\n",
      "\u001b[32m✔\u001b[39m \u001b[34mtidyr  \u001b[39m 1.3.0     \u001b[32m✔\u001b[39m \u001b[34mstringr\u001b[39m 1.5.0\n",
      "\u001b[32m✔\u001b[39m \u001b[34mreadr  \u001b[39m 2.1.3     \u001b[32m✔\u001b[39m \u001b[34mforcats\u001b[39m 0.5.2\n",
      "── \u001b[1mConflicts\u001b[22m ────────────────────────────────────────── tidyverse_conflicts() ──\n",
      "\u001b[31m✖\u001b[39m \u001b[34mdplyr\u001b[39m::\u001b[32mfilter()\u001b[39m masks \u001b[34mstats\u001b[39m::filter()\n",
      "\u001b[31m✖\u001b[39m \u001b[34mdplyr\u001b[39m::\u001b[32mlag()\u001b[39m    masks \u001b[34mstats\u001b[39m::lag()\n",
      "── \u001b[1mAttaching packages\u001b[22m ────────────────────────────────────── tidymodels 1.0.0 ──\n",
      "\n",
      "\u001b[32m✔\u001b[39m \u001b[34mbroom       \u001b[39m 1.0.2     \u001b[32m✔\u001b[39m \u001b[34mrsample     \u001b[39m 1.1.1\n",
      "\u001b[32m✔\u001b[39m \u001b[34mdials       \u001b[39m 1.1.0     \u001b[32m✔\u001b[39m \u001b[34mtune        \u001b[39m 1.0.1\n",
      "\u001b[32m✔\u001b[39m \u001b[34minfer       \u001b[39m 1.0.4     \u001b[32m✔\u001b[39m \u001b[34mworkflows   \u001b[39m 1.1.2\n",
      "\u001b[32m✔\u001b[39m \u001b[34mmodeldata   \u001b[39m 1.0.1     \u001b[32m✔\u001b[39m \u001b[34mworkflowsets\u001b[39m 1.0.0\n",
      "\u001b[32m✔\u001b[39m \u001b[34mparsnip     \u001b[39m 1.0.3     \u001b[32m✔\u001b[39m \u001b[34myardstick   \u001b[39m 1.1.0\n",
      "\u001b[32m✔\u001b[39m \u001b[34mrecipes     \u001b[39m 1.0.4     \n",
      "\n",
      "── \u001b[1mConflicts\u001b[22m ───────────────────────────────────────── tidymodels_conflicts() ──\n",
      "\u001b[31m✖\u001b[39m \u001b[34mscales\u001b[39m::\u001b[32mdiscard()\u001b[39m masks \u001b[34mpurrr\u001b[39m::discard()\n",
      "\u001b[31m✖\u001b[39m \u001b[34mdplyr\u001b[39m::\u001b[32mfilter()\u001b[39m   masks \u001b[34mstats\u001b[39m::filter()\n",
      "\u001b[31m✖\u001b[39m \u001b[34mrecipes\u001b[39m::\u001b[32mfixed()\u001b[39m  masks \u001b[34mstringr\u001b[39m::fixed()\n",
      "\u001b[31m✖\u001b[39m \u001b[34mdplyr\u001b[39m::\u001b[32mlag()\u001b[39m      masks \u001b[34mstats\u001b[39m::lag()\n",
      "\u001b[31m✖\u001b[39m \u001b[34myardstick\u001b[39m::\u001b[32mspec()\u001b[39m masks \u001b[34mreadr\u001b[39m::spec()\n",
      "\u001b[31m✖\u001b[39m \u001b[34mrecipes\u001b[39m::\u001b[32mstep()\u001b[39m   masks \u001b[34mstats\u001b[39m::step()\n",
      "\u001b[34m•\u001b[39m Search for functions across packages at \u001b[32mhttps://www.tidymodels.org/find/\u001b[39m\n",
      "\n",
      "Loading required package: lattice\n",
      "\n",
      "\n",
      "Attaching package: ‘caret’\n",
      "\n",
      "\n",
      "The following objects are masked from ‘package:yardstick’:\n",
      "\n",
      "    precision, recall, sensitivity, specificity\n",
      "\n",
      "\n",
      "The following object is masked from ‘package:purrr’:\n",
      "\n",
      "    lift\n",
      "\n",
      "\n"
     ]
    }
   ],
   "source": [
    "### Run this cell before continuing.\n",
    "library(tidyverse)\n",
    "library(repr)\n",
    "library(tidymodels)\n",
    "library(caret)\n",
    "options(repr.matrix.max.rows = 6)"
   ]
  },
  {
   "cell_type": "markdown",
   "id": "1b9cd2dd-11d5-4844-b125-ffa09b7ce33b",
   "metadata": {},
   "source": [
    "<br>\n",
    "We have downloaded the HTRU_2 data set and now let's read it."
   ]
  },
  {
   "cell_type": "code",
   "execution_count": 2,
   "id": "be020b31-3c60-4a3e-9a10-54a969259f04",
   "metadata": {
    "tags": []
   },
   "outputs": [
    {
     "name": "stderr",
     "output_type": "stream",
     "text": [
      "\u001b[1mRows: \u001b[22m\u001b[34m17898\u001b[39m \u001b[1mColumns: \u001b[22m\u001b[34m9\u001b[39m\n",
      "\u001b[36m──\u001b[39m \u001b[1mColumn specification\u001b[22m \u001b[36m────────────────────────────────────────────────────────\u001b[39m\n",
      "\u001b[1mDelimiter:\u001b[22m \",\"\n",
      "\u001b[32mdbl\u001b[39m (9): mean_ip, standard_deviation_ip, excess_kurtosis_ip, skewness_ip, me...\n",
      "\n",
      "\u001b[36mℹ\u001b[39m Use `spec()` to retrieve the full column specification for this data.\n",
      "\u001b[36mℹ\u001b[39m Specify the column types or set `show_col_types = FALSE` to quiet this message.\n"
     ]
    },
    {
     "data": {
      "text/html": [
       "<table class=\"dataframe\">\n",
       "<caption>A spec_tbl_df: 17898 × 9</caption>\n",
       "<thead>\n",
       "\t<tr><th scope=col>mean_ip</th><th scope=col>standard_deviation_ip</th><th scope=col>excess_kurtosis_ip</th><th scope=col>skewness_ip</th><th scope=col>mean_c</th><th scope=col>standard_deviation_c</th><th scope=col>excess_kurtosis_c</th><th scope=col>skewness_c</th><th scope=col>is_pulsar</th></tr>\n",
       "\t<tr><th scope=col>&lt;dbl&gt;</th><th scope=col>&lt;dbl&gt;</th><th scope=col>&lt;dbl&gt;</th><th scope=col>&lt;dbl&gt;</th><th scope=col>&lt;dbl&gt;</th><th scope=col>&lt;dbl&gt;</th><th scope=col>&lt;dbl&gt;</th><th scope=col>&lt;dbl&gt;</th><th scope=col>&lt;dbl&gt;</th></tr>\n",
       "</thead>\n",
       "<tbody>\n",
       "\t<tr><td>140.5625</td><td>55.68378</td><td>-0.2345714</td><td>-0.6996484</td><td>3.199833</td><td>19.11043</td><td> 7.975532</td><td> 74.24222</td><td>0</td></tr>\n",
       "\t<tr><td>102.5078</td><td>58.88243</td><td> 0.4653182</td><td>-0.5150879</td><td>1.677258</td><td>14.86015</td><td>10.576487</td><td>127.39358</td><td>0</td></tr>\n",
       "\t<tr><td>103.0156</td><td>39.34165</td><td> 0.3233284</td><td> 1.0511644</td><td>3.121237</td><td>21.74467</td><td> 7.735822</td><td> 63.17191</td><td>0</td></tr>\n",
       "\t<tr><td>⋮</td><td>⋮</td><td>⋮</td><td>⋮</td><td>⋮</td><td>⋮</td><td>⋮</td><td>⋮</td><td>⋮</td></tr>\n",
       "\t<tr><td>119.3359</td><td>59.93594</td><td>0.1593631</td><td>-0.74302540</td><td> 21.430602</td><td>58.87200</td><td> 2.499517</td><td>  4.595173</td><td>0</td></tr>\n",
       "\t<tr><td>114.5078</td><td>53.90240</td><td>0.2011614</td><td>-0.02478884</td><td>  1.946488</td><td>13.38173</td><td>10.007967</td><td>134.238910</td><td>0</td></tr>\n",
       "\t<tr><td> 57.0625</td><td>85.79734</td><td>1.4063910</td><td> 0.08951971</td><td>188.306020</td><td>64.71256</td><td>-1.597527</td><td>  1.429475</td><td>0</td></tr>\n",
       "</tbody>\n",
       "</table>\n"
      ],
      "text/latex": [
       "A spec\\_tbl\\_df: 17898 × 9\n",
       "\\begin{tabular}{lllllllll}\n",
       " mean\\_ip & standard\\_deviation\\_ip & excess\\_kurtosis\\_ip & skewness\\_ip & mean\\_c & standard\\_deviation\\_c & excess\\_kurtosis\\_c & skewness\\_c & is\\_pulsar\\\\\n",
       " <dbl> & <dbl> & <dbl> & <dbl> & <dbl> & <dbl> & <dbl> & <dbl> & <dbl>\\\\\n",
       "\\hline\n",
       "\t 140.5625 & 55.68378 & -0.2345714 & -0.6996484 & 3.199833 & 19.11043 &  7.975532 &  74.24222 & 0\\\\\n",
       "\t 102.5078 & 58.88243 &  0.4653182 & -0.5150879 & 1.677258 & 14.86015 & 10.576487 & 127.39358 & 0\\\\\n",
       "\t 103.0156 & 39.34165 &  0.3233284 &  1.0511644 & 3.121237 & 21.74467 &  7.735822 &  63.17191 & 0\\\\\n",
       "\t ⋮ & ⋮ & ⋮ & ⋮ & ⋮ & ⋮ & ⋮ & ⋮ & ⋮\\\\\n",
       "\t 119.3359 & 59.93594 & 0.1593631 & -0.74302540 &  21.430602 & 58.87200 &  2.499517 &   4.595173 & 0\\\\\n",
       "\t 114.5078 & 53.90240 & 0.2011614 & -0.02478884 &   1.946488 & 13.38173 & 10.007967 & 134.238910 & 0\\\\\n",
       "\t  57.0625 & 85.79734 & 1.4063910 &  0.08951971 & 188.306020 & 64.71256 & -1.597527 &   1.429475 & 0\\\\\n",
       "\\end{tabular}\n"
      ],
      "text/markdown": [
       "\n",
       "A spec_tbl_df: 17898 × 9\n",
       "\n",
       "| mean_ip &lt;dbl&gt; | standard_deviation_ip &lt;dbl&gt; | excess_kurtosis_ip &lt;dbl&gt; | skewness_ip &lt;dbl&gt; | mean_c &lt;dbl&gt; | standard_deviation_c &lt;dbl&gt; | excess_kurtosis_c &lt;dbl&gt; | skewness_c &lt;dbl&gt; | is_pulsar &lt;dbl&gt; |\n",
       "|---|---|---|---|---|---|---|---|---|\n",
       "| 140.5625 | 55.68378 | -0.2345714 | -0.6996484 | 3.199833 | 19.11043 |  7.975532 |  74.24222 | 0 |\n",
       "| 102.5078 | 58.88243 |  0.4653182 | -0.5150879 | 1.677258 | 14.86015 | 10.576487 | 127.39358 | 0 |\n",
       "| 103.0156 | 39.34165 |  0.3233284 |  1.0511644 | 3.121237 | 21.74467 |  7.735822 |  63.17191 | 0 |\n",
       "| ⋮ | ⋮ | ⋮ | ⋮ | ⋮ | ⋮ | ⋮ | ⋮ | ⋮ |\n",
       "| 119.3359 | 59.93594 | 0.1593631 | -0.74302540 |  21.430602 | 58.87200 |  2.499517 |   4.595173 | 0 |\n",
       "| 114.5078 | 53.90240 | 0.2011614 | -0.02478884 |   1.946488 | 13.38173 | 10.007967 | 134.238910 | 0 |\n",
       "|  57.0625 | 85.79734 | 1.4063910 |  0.08951971 | 188.306020 | 64.71256 | -1.597527 |   1.429475 | 0 |\n",
       "\n"
      ],
      "text/plain": [
       "      mean_ip  standard_deviation_ip excess_kurtosis_ip skewness_ip mean_c    \n",
       "1     140.5625 55.68378              -0.2345714         -0.6996484  3.199833  \n",
       "2     102.5078 58.88243               0.4653182         -0.5150879  1.677258  \n",
       "3     103.0156 39.34165               0.3233284          1.0511644  3.121237  \n",
       "⋮     ⋮        ⋮                     ⋮                  ⋮           ⋮         \n",
       "17896 119.3359 59.93594              0.1593631          -0.74302540  21.430602\n",
       "17897 114.5078 53.90240              0.2011614          -0.02478884   1.946488\n",
       "17898  57.0625 85.79734              1.4063910           0.08951971 188.306020\n",
       "      standard_deviation_c excess_kurtosis_c skewness_c is_pulsar\n",
       "1     19.11043              7.975532          74.24222  0        \n",
       "2     14.86015             10.576487         127.39358  0        \n",
       "3     21.74467              7.735822          63.17191  0        \n",
       "⋮     ⋮                    ⋮                 ⋮          ⋮        \n",
       "17896 58.87200              2.499517           4.595173 0        \n",
       "17897 13.38173             10.007967         134.238910 0        \n",
       "17898 64.71256             -1.597527           1.429475 0        "
      ]
     },
     "metadata": {},
     "output_type": "display_data"
    }
   ],
   "source": [
    "path <- \"data/HTRU_2.csv\"\n",
    "\n",
    "pulsar_data <- read_csv(path, col_names = c(\"mean_ip\", \"standard_deviation_ip\", \n",
    "                                      \"excess_kurtosis_ip\", \"skewness_ip\",\n",
    "                                      \"mean_c\", \"standard_deviation_c\", \n",
    "                                      \"excess_kurtosis_c\", \"skewness_c\",\n",
    "                                      \"is_pulsar\"))\n",
    "pulsar_data"
   ]
  },
  {
   "cell_type": "markdown",
   "id": "ff25cfb7-5508-4b49-b23a-6aa53985be9a",
   "metadata": {
    "tags": []
   },
   "source": [
    " <br>\n",
    " The values under the is_pulsar column are doubles so we will convert them to factors for the convenience of performing classifications."
   ]
  },
  {
   "cell_type": "code",
   "execution_count": 4,
   "id": "c6ab8987-9ff3-4742-a85b-31c9ce69cb59",
   "metadata": {
    "tags": []
   },
   "outputs": [
    {
     "data": {
      "text/html": [
       "<table class=\"dataframe\">\n",
       "<caption>A tibble: 17898 × 9</caption>\n",
       "<thead>\n",
       "\t<tr><th scope=col>mean_ip</th><th scope=col>standard_deviation_ip</th><th scope=col>excess_kurtosis_ip</th><th scope=col>skewness_ip</th><th scope=col>mean_c</th><th scope=col>standard_deviation_c</th><th scope=col>excess_kurtosis_c</th><th scope=col>skewness_c</th><th scope=col>is_pulsar</th></tr>\n",
       "\t<tr><th scope=col>&lt;dbl&gt;</th><th scope=col>&lt;dbl&gt;</th><th scope=col>&lt;dbl&gt;</th><th scope=col>&lt;dbl&gt;</th><th scope=col>&lt;dbl&gt;</th><th scope=col>&lt;dbl&gt;</th><th scope=col>&lt;dbl&gt;</th><th scope=col>&lt;dbl&gt;</th><th scope=col>&lt;fct&gt;</th></tr>\n",
       "</thead>\n",
       "<tbody>\n",
       "\t<tr><td>140.5625</td><td>55.68378</td><td>-0.2345714</td><td>-0.6996484</td><td>3.199833</td><td>19.11043</td><td> 7.975532</td><td> 74.24222</td><td>0</td></tr>\n",
       "\t<tr><td>102.5078</td><td>58.88243</td><td> 0.4653182</td><td>-0.5150879</td><td>1.677258</td><td>14.86015</td><td>10.576487</td><td>127.39358</td><td>0</td></tr>\n",
       "\t<tr><td>103.0156</td><td>39.34165</td><td> 0.3233284</td><td> 1.0511644</td><td>3.121237</td><td>21.74467</td><td> 7.735822</td><td> 63.17191</td><td>0</td></tr>\n",
       "\t<tr><td>⋮</td><td>⋮</td><td>⋮</td><td>⋮</td><td>⋮</td><td>⋮</td><td>⋮</td><td>⋮</td><td>⋮</td></tr>\n",
       "\t<tr><td>119.3359</td><td>59.93594</td><td>0.1593631</td><td>-0.74302540</td><td> 21.430602</td><td>58.87200</td><td> 2.499517</td><td>  4.595173</td><td>0</td></tr>\n",
       "\t<tr><td>114.5078</td><td>53.90240</td><td>0.2011614</td><td>-0.02478884</td><td>  1.946488</td><td>13.38173</td><td>10.007967</td><td>134.238910</td><td>0</td></tr>\n",
       "\t<tr><td> 57.0625</td><td>85.79734</td><td>1.4063910</td><td> 0.08951971</td><td>188.306020</td><td>64.71256</td><td>-1.597527</td><td>  1.429475</td><td>0</td></tr>\n",
       "</tbody>\n",
       "</table>\n"
      ],
      "text/latex": [
       "A tibble: 17898 × 9\n",
       "\\begin{tabular}{lllllllll}\n",
       " mean\\_ip & standard\\_deviation\\_ip & excess\\_kurtosis\\_ip & skewness\\_ip & mean\\_c & standard\\_deviation\\_c & excess\\_kurtosis\\_c & skewness\\_c & is\\_pulsar\\\\\n",
       " <dbl> & <dbl> & <dbl> & <dbl> & <dbl> & <dbl> & <dbl> & <dbl> & <fct>\\\\\n",
       "\\hline\n",
       "\t 140.5625 & 55.68378 & -0.2345714 & -0.6996484 & 3.199833 & 19.11043 &  7.975532 &  74.24222 & 0\\\\\n",
       "\t 102.5078 & 58.88243 &  0.4653182 & -0.5150879 & 1.677258 & 14.86015 & 10.576487 & 127.39358 & 0\\\\\n",
       "\t 103.0156 & 39.34165 &  0.3233284 &  1.0511644 & 3.121237 & 21.74467 &  7.735822 &  63.17191 & 0\\\\\n",
       "\t ⋮ & ⋮ & ⋮ & ⋮ & ⋮ & ⋮ & ⋮ & ⋮ & ⋮\\\\\n",
       "\t 119.3359 & 59.93594 & 0.1593631 & -0.74302540 &  21.430602 & 58.87200 &  2.499517 &   4.595173 & 0\\\\\n",
       "\t 114.5078 & 53.90240 & 0.2011614 & -0.02478884 &   1.946488 & 13.38173 & 10.007967 & 134.238910 & 0\\\\\n",
       "\t  57.0625 & 85.79734 & 1.4063910 &  0.08951971 & 188.306020 & 64.71256 & -1.597527 &   1.429475 & 0\\\\\n",
       "\\end{tabular}\n"
      ],
      "text/markdown": [
       "\n",
       "A tibble: 17898 × 9\n",
       "\n",
       "| mean_ip &lt;dbl&gt; | standard_deviation_ip &lt;dbl&gt; | excess_kurtosis_ip &lt;dbl&gt; | skewness_ip &lt;dbl&gt; | mean_c &lt;dbl&gt; | standard_deviation_c &lt;dbl&gt; | excess_kurtosis_c &lt;dbl&gt; | skewness_c &lt;dbl&gt; | is_pulsar &lt;fct&gt; |\n",
       "|---|---|---|---|---|---|---|---|---|\n",
       "| 140.5625 | 55.68378 | -0.2345714 | -0.6996484 | 3.199833 | 19.11043 |  7.975532 |  74.24222 | 0 |\n",
       "| 102.5078 | 58.88243 |  0.4653182 | -0.5150879 | 1.677258 | 14.86015 | 10.576487 | 127.39358 | 0 |\n",
       "| 103.0156 | 39.34165 |  0.3233284 |  1.0511644 | 3.121237 | 21.74467 |  7.735822 |  63.17191 | 0 |\n",
       "| ⋮ | ⋮ | ⋮ | ⋮ | ⋮ | ⋮ | ⋮ | ⋮ | ⋮ |\n",
       "| 119.3359 | 59.93594 | 0.1593631 | -0.74302540 |  21.430602 | 58.87200 |  2.499517 |   4.595173 | 0 |\n",
       "| 114.5078 | 53.90240 | 0.2011614 | -0.02478884 |   1.946488 | 13.38173 | 10.007967 | 134.238910 | 0 |\n",
       "|  57.0625 | 85.79734 | 1.4063910 |  0.08951971 | 188.306020 | 64.71256 | -1.597527 |   1.429475 | 0 |\n",
       "\n"
      ],
      "text/plain": [
       "      mean_ip  standard_deviation_ip excess_kurtosis_ip skewness_ip mean_c    \n",
       "1     140.5625 55.68378              -0.2345714         -0.6996484  3.199833  \n",
       "2     102.5078 58.88243               0.4653182         -0.5150879  1.677258  \n",
       "3     103.0156 39.34165               0.3233284          1.0511644  3.121237  \n",
       "⋮     ⋮        ⋮                     ⋮                  ⋮           ⋮         \n",
       "17896 119.3359 59.93594              0.1593631          -0.74302540  21.430602\n",
       "17897 114.5078 53.90240              0.2011614          -0.02478884   1.946488\n",
       "17898  57.0625 85.79734              1.4063910           0.08951971 188.306020\n",
       "      standard_deviation_c excess_kurtosis_c skewness_c is_pulsar\n",
       "1     19.11043              7.975532          74.24222  0        \n",
       "2     14.86015             10.576487         127.39358  0        \n",
       "3     21.74467              7.735822          63.17191  0        \n",
       "⋮     ⋮                    ⋮                 ⋮          ⋮        \n",
       "17896 58.87200              2.499517           4.595173 0        \n",
       "17897 13.38173             10.007967         134.238910 0        \n",
       "17898 64.71256             -1.597527           1.429475 0        "
      ]
     },
     "metadata": {},
     "output_type": "display_data"
    }
   ],
   "source": [
    "pulsar_data <- mutate(pulsar_data, is_pulsar = as_factor(is_pulsar))\n",
    "pulsar_data"
   ]
  },
  {
   "cell_type": "markdown",
   "id": "97bf5c32-f67f-4f2d-afd6-b1a70ea2c8ac",
   "metadata": {},
   "source": [
    "<br>\n",
    "Next, let's examine how the number of observations is distributed among pulsars (1) and nonpulsars (0)."
   ]
  },
  {
   "cell_type": "code",
   "execution_count": 5,
   "id": "1b44cbf8-f08b-4ec8-aa24-3374841dff18",
   "metadata": {
    "tags": []
   },
   "outputs": [
    {
     "data": {
      "text/html": [
       "<table class=\"dataframe\">\n",
       "<caption>A tibble: 2 × 2</caption>\n",
       "<thead>\n",
       "\t<tr><th scope=col>is_pulsar</th><th scope=col>n()</th></tr>\n",
       "\t<tr><th scope=col>&lt;fct&gt;</th><th scope=col>&lt;int&gt;</th></tr>\n",
       "</thead>\n",
       "<tbody>\n",
       "\t<tr><td>0</td><td>16259</td></tr>\n",
       "\t<tr><td>1</td><td> 1639</td></tr>\n",
       "</tbody>\n",
       "</table>\n"
      ],
      "text/latex": [
       "A tibble: 2 × 2\n",
       "\\begin{tabular}{ll}\n",
       " is\\_pulsar & n()\\\\\n",
       " <fct> & <int>\\\\\n",
       "\\hline\n",
       "\t 0 & 16259\\\\\n",
       "\t 1 &  1639\\\\\n",
       "\\end{tabular}\n"
      ],
      "text/markdown": [
       "\n",
       "A tibble: 2 × 2\n",
       "\n",
       "| is_pulsar &lt;fct&gt; | n() &lt;int&gt; |\n",
       "|---|---|\n",
       "| 0 | 16259 |\n",
       "| 1 |  1639 |\n",
       "\n"
      ],
      "text/plain": [
       "  is_pulsar n()  \n",
       "1 0         16259\n",
       "2 1          1639"
      ]
     },
     "metadata": {},
     "output_type": "display_data"
    }
   ],
   "source": [
    "pulsar_distribution <- pulsar_data |>\n",
    "group_by(is_pulsar) |>\n",
    "summarize(n())\n",
    "\n",
    "pulsar_distribution"
   ]
  },
  {
   "cell_type": "markdown",
   "id": "de4c65ef-9eb5-4d80-9f2e-3c59cf9b2138",
   "metadata": {},
   "source": [
    "We have an uneven distribution of observations among the two classes. Additionally, the 17,898 observations in the data set will result in serious overplotting. A solution these problems is the `downSample` function from the `caret` package."
   ]
  },
  {
   "cell_type": "code",
   "execution_count": 6,
   "id": "af2ddc4f-1ff3-486c-b0c5-6ff900794ee7",
   "metadata": {
    "tags": []
   },
   "outputs": [
    {
     "data": {
      "text/html": [
       "<table class=\"dataframe\">\n",
       "<caption>A data.frame: 3278 × 10</caption>\n",
       "<thead>\n",
       "\t<tr><th scope=col>mean_ip</th><th scope=col>standard_deviation_ip</th><th scope=col>excess_kurtosis_ip</th><th scope=col>skewness_ip</th><th scope=col>mean_c</th><th scope=col>standard_deviation_c</th><th scope=col>excess_kurtosis_c</th><th scope=col>skewness_c</th><th scope=col>is_pulsar</th><th scope=col>Class</th></tr>\n",
       "\t<tr><th scope=col>&lt;dbl&gt;</th><th scope=col>&lt;dbl&gt;</th><th scope=col>&lt;dbl&gt;</th><th scope=col>&lt;dbl&gt;</th><th scope=col>&lt;dbl&gt;</th><th scope=col>&lt;dbl&gt;</th><th scope=col>&lt;dbl&gt;</th><th scope=col>&lt;dbl&gt;</th><th scope=col>&lt;fct&gt;</th><th scope=col>&lt;fct&gt;</th></tr>\n",
       "</thead>\n",
       "<tbody>\n",
       "\t<tr><td>139.0391</td><td>51.27109</td><td>-0.3986428</td><td>-0.18010645</td><td>1.637960</td><td>11.31409</td><td>12.904173</td><td>232.82199</td><td>0</td><td>0</td></tr>\n",
       "\t<tr><td>119.5312</td><td>48.09056</td><td> 0.3588836</td><td> 0.52593872</td><td>7.802676</td><td>34.48856</td><td> 4.623729</td><td> 20.97594</td><td>0</td><td>0</td></tr>\n",
       "\t<tr><td>126.4141</td><td>50.79378</td><td>-0.2143957</td><td>-0.02138971</td><td>3.409699</td><td>22.95370</td><td> 7.723231</td><td> 62.71614</td><td>0</td><td>0</td></tr>\n",
       "\t<tr><td>⋮</td><td>⋮</td><td>⋮</td><td>⋮</td><td>⋮</td><td>⋮</td><td>⋮</td><td>⋮</td><td>⋮</td><td>⋮</td></tr>\n",
       "\t<tr><td>71.01562</td><td>33.65728</td><td>2.378286</td><td> 9.636837</td><td>15.820234</td><td>52.43958</td><td>3.382535</td><td>10.303138</td><td>1</td><td>1</td></tr>\n",
       "\t<tr><td>96.32031</td><td>46.13667</td><td>1.033362</td><td> 1.625057</td><td> 4.243311</td><td>26.74649</td><td>7.110978</td><td>52.701218</td><td>1</td><td>1</td></tr>\n",
       "\t<tr><td>45.09375</td><td>28.60956</td><td>4.156460</td><td>26.198202</td><td>34.565217</td><td>67.78225</td><td>1.872010</td><td> 2.171717</td><td>1</td><td>1</td></tr>\n",
       "</tbody>\n",
       "</table>\n"
      ],
      "text/latex": [
       "A data.frame: 3278 × 10\n",
       "\\begin{tabular}{llllllllll}\n",
       " mean\\_ip & standard\\_deviation\\_ip & excess\\_kurtosis\\_ip & skewness\\_ip & mean\\_c & standard\\_deviation\\_c & excess\\_kurtosis\\_c & skewness\\_c & is\\_pulsar & Class\\\\\n",
       " <dbl> & <dbl> & <dbl> & <dbl> & <dbl> & <dbl> & <dbl> & <dbl> & <fct> & <fct>\\\\\n",
       "\\hline\n",
       "\t 139.0391 & 51.27109 & -0.3986428 & -0.18010645 & 1.637960 & 11.31409 & 12.904173 & 232.82199 & 0 & 0\\\\\n",
       "\t 119.5312 & 48.09056 &  0.3588836 &  0.52593872 & 7.802676 & 34.48856 &  4.623729 &  20.97594 & 0 & 0\\\\\n",
       "\t 126.4141 & 50.79378 & -0.2143957 & -0.02138971 & 3.409699 & 22.95370 &  7.723231 &  62.71614 & 0 & 0\\\\\n",
       "\t ⋮ & ⋮ & ⋮ & ⋮ & ⋮ & ⋮ & ⋮ & ⋮ & ⋮ & ⋮\\\\\n",
       "\t 71.01562 & 33.65728 & 2.378286 &  9.636837 & 15.820234 & 52.43958 & 3.382535 & 10.303138 & 1 & 1\\\\\n",
       "\t 96.32031 & 46.13667 & 1.033362 &  1.625057 &  4.243311 & 26.74649 & 7.110978 & 52.701218 & 1 & 1\\\\\n",
       "\t 45.09375 & 28.60956 & 4.156460 & 26.198202 & 34.565217 & 67.78225 & 1.872010 &  2.171717 & 1 & 1\\\\\n",
       "\\end{tabular}\n"
      ],
      "text/markdown": [
       "\n",
       "A data.frame: 3278 × 10\n",
       "\n",
       "| mean_ip &lt;dbl&gt; | standard_deviation_ip &lt;dbl&gt; | excess_kurtosis_ip &lt;dbl&gt; | skewness_ip &lt;dbl&gt; | mean_c &lt;dbl&gt; | standard_deviation_c &lt;dbl&gt; | excess_kurtosis_c &lt;dbl&gt; | skewness_c &lt;dbl&gt; | is_pulsar &lt;fct&gt; | Class &lt;fct&gt; |\n",
       "|---|---|---|---|---|---|---|---|---|---|\n",
       "| 139.0391 | 51.27109 | -0.3986428 | -0.18010645 | 1.637960 | 11.31409 | 12.904173 | 232.82199 | 0 | 0 |\n",
       "| 119.5312 | 48.09056 |  0.3588836 |  0.52593872 | 7.802676 | 34.48856 |  4.623729 |  20.97594 | 0 | 0 |\n",
       "| 126.4141 | 50.79378 | -0.2143957 | -0.02138971 | 3.409699 | 22.95370 |  7.723231 |  62.71614 | 0 | 0 |\n",
       "| ⋮ | ⋮ | ⋮ | ⋮ | ⋮ | ⋮ | ⋮ | ⋮ | ⋮ | ⋮ |\n",
       "| 71.01562 | 33.65728 | 2.378286 |  9.636837 | 15.820234 | 52.43958 | 3.382535 | 10.303138 | 1 | 1 |\n",
       "| 96.32031 | 46.13667 | 1.033362 |  1.625057 |  4.243311 | 26.74649 | 7.110978 | 52.701218 | 1 | 1 |\n",
       "| 45.09375 | 28.60956 | 4.156460 | 26.198202 | 34.565217 | 67.78225 | 1.872010 |  2.171717 | 1 | 1 |\n",
       "\n"
      ],
      "text/plain": [
       "     mean_ip  standard_deviation_ip excess_kurtosis_ip skewness_ip mean_c   \n",
       "1    139.0391 51.27109              -0.3986428         -0.18010645 1.637960 \n",
       "2    119.5312 48.09056               0.3588836          0.52593872 7.802676 \n",
       "3    126.4141 50.79378              -0.2143957         -0.02138971 3.409699 \n",
       "⋮    ⋮        ⋮                     ⋮                  ⋮           ⋮        \n",
       "3276 71.01562 33.65728              2.378286            9.636837   15.820234\n",
       "3277 96.32031 46.13667              1.033362            1.625057    4.243311\n",
       "3278 45.09375 28.60956              4.156460           26.198202   34.565217\n",
       "     standard_deviation_c excess_kurtosis_c skewness_c is_pulsar Class\n",
       "1    11.31409             12.904173         232.82199  0         0    \n",
       "2    34.48856              4.623729          20.97594  0         0    \n",
       "3    22.95370              7.723231          62.71614  0         0    \n",
       "⋮    ⋮                    ⋮                 ⋮          ⋮         ⋮    \n",
       "3276 52.43958             3.382535          10.303138  1         1    \n",
       "3277 26.74649             7.110978          52.701218  1         1    \n",
       "3278 67.78225             1.872010           2.171717  1         1    "
      ]
     },
     "metadata": {},
     "output_type": "display_data"
    }
   ],
   "source": [
    "pulsar_balanced <- pulsar_data |>\n",
    "downSample(pulsar_data$is_pulsar)\n",
    "\n",
    "pulsar_balanced"
   ]
  },
  {
   "cell_type": "markdown",
   "id": "b8387e67-cc2a-48fc-b342-b53abb7a6019",
   "metadata": {},
   "source": [
    "Now let's examine distribution of the observations among the classes in our new data frame."
   ]
  },
  {
   "cell_type": "code",
   "execution_count": 7,
   "id": "a04d5e2c-0dc2-4a3b-a77a-fd9050e61756",
   "metadata": {
    "tags": []
   },
   "outputs": [
    {
     "data": {
      "text/html": [
       "<table class=\"dataframe\">\n",
       "<caption>A tibble: 2 × 2</caption>\n",
       "<thead>\n",
       "\t<tr><th scope=col>is_pulsar</th><th scope=col>n()</th></tr>\n",
       "\t<tr><th scope=col>&lt;fct&gt;</th><th scope=col>&lt;int&gt;</th></tr>\n",
       "</thead>\n",
       "<tbody>\n",
       "\t<tr><td>0</td><td>1639</td></tr>\n",
       "\t<tr><td>1</td><td>1639</td></tr>\n",
       "</tbody>\n",
       "</table>\n"
      ],
      "text/latex": [
       "A tibble: 2 × 2\n",
       "\\begin{tabular}{ll}\n",
       " is\\_pulsar & n()\\\\\n",
       " <fct> & <int>\\\\\n",
       "\\hline\n",
       "\t 0 & 1639\\\\\n",
       "\t 1 & 1639\\\\\n",
       "\\end{tabular}\n"
      ],
      "text/markdown": [
       "\n",
       "A tibble: 2 × 2\n",
       "\n",
       "| is_pulsar &lt;fct&gt; | n() &lt;int&gt; |\n",
       "|---|---|\n",
       "| 0 | 1639 |\n",
       "| 1 | 1639 |\n",
       "\n"
      ],
      "text/plain": [
       "  is_pulsar n() \n",
       "1 0         1639\n",
       "2 1         1639"
      ]
     },
     "metadata": {},
     "output_type": "display_data"
    }
   ],
   "source": [
    "pulsar_balanced_distribution <- pulsar_balanced |>\n",
    "group_by(is_pulsar) |>\n",
    "summarize(n())\n",
    "\n",
    "pulsar_balanced_distribution"
   ]
  },
  {
   "cell_type": "markdown",
   "id": "4fa1c25c-2c43-452f-a406-3804a782b66f",
   "metadata": {},
   "source": [
    "We can see that our data is indeed balanced and have less but still decent amount of observations."
   ]
  },
  {
   "cell_type": "code",
   "execution_count": null,
   "id": "47f1028c-1d04-4d88-848e-f978da62ec87",
   "metadata": {},
   "outputs": [],
   "source": []
  }
 ],
 "metadata": {
  "kernelspec": {
   "display_name": "R",
   "language": "R",
   "name": "ir"
  },
  "language_info": {
   "codemirror_mode": "r",
   "file_extension": ".r",
   "mimetype": "text/x-r-source",
   "name": "R",
   "pygments_lexer": "r",
   "version": "4.2.2"
  }
 },
 "nbformat": 4,
 "nbformat_minor": 5
}
