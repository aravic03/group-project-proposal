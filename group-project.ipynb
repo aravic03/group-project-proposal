{
 "cells": [
  {
   "cell_type": "code",
   "execution_count": 5,
   "id": "eac83799-c730-4d57-9ec7-9e41e405535d",
   "metadata": {},
   "outputs": [
    {
     "name": "stderr",
     "output_type": "stream",
     "text": [
      "Warning message in file(filename, \"r\", encoding = encoding):\n",
      "“cannot open file 'tests.R': No such file or directory”\n"
     ]
    },
    {
     "ename": "ERROR",
     "evalue": "Error in file(filename, \"r\", encoding = encoding): cannot open the connection\n",
     "output_type": "error",
     "traceback": [
      "Error in file(filename, \"r\", encoding = encoding): cannot open the connection\nTraceback:\n",
      "1. source(\"tests.R\")",
      "2. file(filename, \"r\", encoding = encoding)"
     ]
    }
   ],
   "source": [
    "### Run this cell before continuing.\n",
    "library(tidyverse)\n",
    "library(repr)\n",
    "library(tidymodels)\n",
    "options(repr.matrix.max.rows = 6)\n",
    "source('tests.R')\n",
    "source('cleanup.R')"
   ]
  },
  {
   "cell_type": "markdown",
   "id": "bcb0ec9e-cc86-4705-a528-0d686325ff35",
   "metadata": {},
   "source": [
    "**Introduction:**\n",
    "<b>Provide some relevant background information on the topic so that someone unfamiliar with it will be prepared to understand the rest of your proposal.</b>\n",
    "<br>\n",
    "According to the information provided in the README file, Pulsars are a rare type of neutron stars that are useful as probes of space-time, interstellar medium, and states of matter. They are searched for by looking for radio signals using telescopes. It is hard to distinguish between signals caused by either RFI (Radio \n",
    "Frequency Interference) or noise and real pulsars. Thus the above is a classification problem of identifying pulsar and non-pulsar classes based on certain variables.\n",
    "\n",
    "<b>Clearly state the question you will try to answer with your project</b>\n",
    "<br>\n",
    "Perform dataset classification to classify pulsar candidates to pulsar or non-pulsar categories to facilitate the exploration and identification of pulsars through data science techniques.</b>\n",
    "The question : Based on certain characteristic variables, is a given candidate pulsar or non-pulsar?\n",
    "<br>\n",
    "<b>Identify and describe the dataset that will be used to answer the question</b>\n",
    "We will be using the Dataset available at this link: https://archive.ics.uci.edu/dataset/372/htru2\n",
    "Here is the citation for the dataset: \n",
    "R. J. Lyon, B. W. Stappers, S. Cooper, J. M. Brooke, J. D. Knowles, Fifty Years of Pulsar. Candidate Selection: From simple filters to a new principled real-time classification approach MNRAS, 2016.\n",
    "\n",
    "The title is HTRU2 and the dataset contains 17898 observations and the following 8 variables as described in the dataset README file:\n",
    "Mean of the integrated profile.\n",
    "Standard deviation of the integrated profile.\n",
    "Excess kurtosis of the integrated profile.\n",
    "Skewness of the integrated profile.\n",
    "Mean of the DM-SNR curve.\n",
    "Standard deviation of the DM-SNR curve.\n",
    "Excess kurtosis of the DM-SNR curve.\n",
    "Skewness of the DM-SNR curve.\n",
    "An additional dummy/categorical variable column indicates whether or not the observation has been classified as a pulsar (class == 1) or not (class == 0)\n",
    "The sample has a balance problem since there are only 1639 real pulsar examples and an overwhelming 16259 non pulsar examples (RFI/noise). This will need to be accounted for in the analysis.\n"
   ]
  },
  {
   "cell_type": "code",
   "execution_count": 4,
   "id": "5b83662b-ce55-4956-8b96-1cdd00867abf",
   "metadata": {},
   "outputs": [
    {
     "name": "stderr",
     "output_type": "stream",
     "text": [
      "\u001b[1mRows: \u001b[22m\u001b[34m17898\u001b[39m \u001b[1mColumns: \u001b[22m\u001b[34m9\u001b[39m\n",
      "\u001b[36m──\u001b[39m \u001b[1mColumn specification\u001b[22m \u001b[36m────────────────────────────────────────────────────────\u001b[39m\n",
      "\u001b[1mDelimiter:\u001b[22m \",\"\n",
      "\u001b[32mdbl\u001b[39m (9): X1, X2, X3, X4, X5, X6, X7, X8, X9\n",
      "\n",
      "\u001b[36mℹ\u001b[39m Use `spec()` to retrieve the full column specification for this data.\n",
      "\u001b[36mℹ\u001b[39m Specify the column types or set `show_col_types = FALSE` to quiet this message.\n"
     ]
    },
    {
     "data": {
      "text/html": [
       "<table class=\"dataframe\">\n",
       "<caption>A spec_tbl_df: 17898 × 9</caption>\n",
       "<thead>\n",
       "\t<tr><th scope=col>X1</th><th scope=col>X2</th><th scope=col>X3</th><th scope=col>X4</th><th scope=col>X5</th><th scope=col>X6</th><th scope=col>X7</th><th scope=col>X8</th><th scope=col>X9</th></tr>\n",
       "\t<tr><th scope=col>&lt;dbl&gt;</th><th scope=col>&lt;dbl&gt;</th><th scope=col>&lt;dbl&gt;</th><th scope=col>&lt;dbl&gt;</th><th scope=col>&lt;dbl&gt;</th><th scope=col>&lt;dbl&gt;</th><th scope=col>&lt;dbl&gt;</th><th scope=col>&lt;dbl&gt;</th><th scope=col>&lt;dbl&gt;</th></tr>\n",
       "</thead>\n",
       "<tbody>\n",
       "\t<tr><td>140.5625</td><td>55.68378</td><td>-0.2345714</td><td>-0.6996484</td><td>3.199833</td><td>19.11043</td><td> 7.975532</td><td> 74.24222</td><td>0</td></tr>\n",
       "\t<tr><td>102.5078</td><td>58.88243</td><td> 0.4653182</td><td>-0.5150879</td><td>1.677258</td><td>14.86015</td><td>10.576487</td><td>127.39358</td><td>0</td></tr>\n",
       "\t<tr><td>103.0156</td><td>39.34165</td><td> 0.3233284</td><td> 1.0511644</td><td>3.121237</td><td>21.74467</td><td> 7.735822</td><td> 63.17191</td><td>0</td></tr>\n",
       "\t<tr><td>⋮</td><td>⋮</td><td>⋮</td><td>⋮</td><td>⋮</td><td>⋮</td><td>⋮</td><td>⋮</td><td>⋮</td></tr>\n",
       "\t<tr><td>119.3359</td><td>59.93594</td><td>0.1593631</td><td>-0.74302540</td><td> 21.430602</td><td>58.87200</td><td> 2.499517</td><td>  4.595173</td><td>0</td></tr>\n",
       "\t<tr><td>114.5078</td><td>53.90240</td><td>0.2011614</td><td>-0.02478884</td><td>  1.946488</td><td>13.38173</td><td>10.007967</td><td>134.238910</td><td>0</td></tr>\n",
       "\t<tr><td> 57.0625</td><td>85.79734</td><td>1.4063910</td><td> 0.08951971</td><td>188.306020</td><td>64.71256</td><td>-1.597527</td><td>  1.429475</td><td>0</td></tr>\n",
       "</tbody>\n",
       "</table>\n"
      ],
      "text/latex": [
       "A spec\\_tbl\\_df: 17898 × 9\n",
       "\\begin{tabular}{lllllllll}\n",
       " X1 & X2 & X3 & X4 & X5 & X6 & X7 & X8 & X9\\\\\n",
       " <dbl> & <dbl> & <dbl> & <dbl> & <dbl> & <dbl> & <dbl> & <dbl> & <dbl>\\\\\n",
       "\\hline\n",
       "\t 140.5625 & 55.68378 & -0.2345714 & -0.6996484 & 3.199833 & 19.11043 &  7.975532 &  74.24222 & 0\\\\\n",
       "\t 102.5078 & 58.88243 &  0.4653182 & -0.5150879 & 1.677258 & 14.86015 & 10.576487 & 127.39358 & 0\\\\\n",
       "\t 103.0156 & 39.34165 &  0.3233284 &  1.0511644 & 3.121237 & 21.74467 &  7.735822 &  63.17191 & 0\\\\\n",
       "\t ⋮ & ⋮ & ⋮ & ⋮ & ⋮ & ⋮ & ⋮ & ⋮ & ⋮\\\\\n",
       "\t 119.3359 & 59.93594 & 0.1593631 & -0.74302540 &  21.430602 & 58.87200 &  2.499517 &   4.595173 & 0\\\\\n",
       "\t 114.5078 & 53.90240 & 0.2011614 & -0.02478884 &   1.946488 & 13.38173 & 10.007967 & 134.238910 & 0\\\\\n",
       "\t  57.0625 & 85.79734 & 1.4063910 &  0.08951971 & 188.306020 & 64.71256 & -1.597527 &   1.429475 & 0\\\\\n",
       "\\end{tabular}\n"
      ],
      "text/markdown": [
       "\n",
       "A spec_tbl_df: 17898 × 9\n",
       "\n",
       "| X1 &lt;dbl&gt; | X2 &lt;dbl&gt; | X3 &lt;dbl&gt; | X4 &lt;dbl&gt; | X5 &lt;dbl&gt; | X6 &lt;dbl&gt; | X7 &lt;dbl&gt; | X8 &lt;dbl&gt; | X9 &lt;dbl&gt; |\n",
       "|---|---|---|---|---|---|---|---|---|\n",
       "| 140.5625 | 55.68378 | -0.2345714 | -0.6996484 | 3.199833 | 19.11043 |  7.975532 |  74.24222 | 0 |\n",
       "| 102.5078 | 58.88243 |  0.4653182 | -0.5150879 | 1.677258 | 14.86015 | 10.576487 | 127.39358 | 0 |\n",
       "| 103.0156 | 39.34165 |  0.3233284 |  1.0511644 | 3.121237 | 21.74467 |  7.735822 |  63.17191 | 0 |\n",
       "| ⋮ | ⋮ | ⋮ | ⋮ | ⋮ | ⋮ | ⋮ | ⋮ | ⋮ |\n",
       "| 119.3359 | 59.93594 | 0.1593631 | -0.74302540 |  21.430602 | 58.87200 |  2.499517 |   4.595173 | 0 |\n",
       "| 114.5078 | 53.90240 | 0.2011614 | -0.02478884 |   1.946488 | 13.38173 | 10.007967 | 134.238910 | 0 |\n",
       "|  57.0625 | 85.79734 | 1.4063910 |  0.08951971 | 188.306020 | 64.71256 | -1.597527 |   1.429475 | 0 |\n",
       "\n"
      ],
      "text/plain": [
       "      X1       X2       X3         X4          X5         X6       X7       \n",
       "1     140.5625 55.68378 -0.2345714 -0.6996484  3.199833   19.11043  7.975532\n",
       "2     102.5078 58.88243  0.4653182 -0.5150879  1.677258   14.86015 10.576487\n",
       "3     103.0156 39.34165  0.3233284  1.0511644  3.121237   21.74467  7.735822\n",
       "⋮     ⋮        ⋮        ⋮          ⋮           ⋮          ⋮        ⋮        \n",
       "17896 119.3359 59.93594 0.1593631  -0.74302540  21.430602 58.87200  2.499517\n",
       "17897 114.5078 53.90240 0.2011614  -0.02478884   1.946488 13.38173 10.007967\n",
       "17898  57.0625 85.79734 1.4063910   0.08951971 188.306020 64.71256 -1.597527\n",
       "      X8         X9\n",
       "1      74.24222  0 \n",
       "2     127.39358  0 \n",
       "3      63.17191  0 \n",
       "⋮     ⋮          ⋮ \n",
       "17896   4.595173 0 \n",
       "17897 134.238910 0 \n",
       "17898   1.429475 0 "
      ]
     },
     "metadata": {},
     "output_type": "display_data"
    }
   ],
   "source": [
    "pulsar_data <- read_csv(\"data/HTRU_2.csv\", \n",
    "                        col_names = c(\"mean_ip\", \"standard_deviation_ip\", \n",
    "                                      \"excess_kurtosis_ip\", \"skewness_ip\",\n",
    "                                      \"mean_c\", \"standard_deviation_c\", \n",
    "                                      \"excess_kurtosis_c\", \"skewness_c\",\n",
    "                                     ))\n",
    "pulsar_data"
   ]
  },
  {
   "cell_type": "code",
   "execution_count": null,
   "id": "0f06b7ca-7667-4880-b5d8-810766158183",
   "metadata": {},
   "outputs": [],
   "source": []
  }
 ],
 "metadata": {
  "kernelspec": {
   "display_name": "R",
   "language": "R",
   "name": "ir"
  },
  "language_info": {
   "codemirror_mode": "r",
   "file_extension": ".r",
   "mimetype": "text/x-r-source",
   "name": "R",
   "pygments_lexer": "r",
   "version": "4.3.1"
  }
 },
 "nbformat": 4,
 "nbformat_minor": 5
}
